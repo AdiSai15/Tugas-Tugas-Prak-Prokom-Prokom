{
 "cells": [
  {
   "cell_type": "code",
   "execution_count": null,
   "metadata": {},
   "outputs": [],
   "source": [
    "#program utama\n",
    "#............\n",
    "#...........\n",
    "for x in range(10):\n",
    "    print(\"Selamat Pagi\")\n",
    "#............\n",
    "#...........\n",
    "for x in range(10):\n",
    "    print(\"Selamat Pagi\")\n",
    "#............\n",
    "#...........\n",
    "for x in range(10):\n",
    "    print(\"Selamat Pagi\")\n",
    "#............\n",
    "#...........\n",
    "#...........\n",
    "for x in range(10):\n",
    "    print(\"Selamat Pagi\")"
   ]
  },
  {
   "attachments": {},
   "cell_type": "markdown",
   "metadata": {},
   "source": [
    "Buat dalam bentuk sub-program\n"
   ]
  },
  {
   "cell_type": "code",
   "execution_count": 1,
   "metadata": {},
   "outputs": [
    {
     "name": "stdout",
     "output_type": "stream",
     "text": [
      "Selamat Pagi\n",
      "Selamat Pagi\n",
      "Selamat Pagi\n",
      "Selamat Pagi\n",
      "Selamat Pagi\n",
      "Selamat Pagi\n",
      "Selamat Pagi\n",
      "Selamat Pagi\n",
      "Selamat Pagi\n",
      "Selamat Pagi\n",
      "Selamat Pagi\n",
      "Selamat Pagi\n",
      "Selamat Pagi\n",
      "Selamat Pagi\n",
      "Selamat Pagi\n",
      "Selamat Pagi\n",
      "Selamat Pagi\n",
      "Selamat Pagi\n",
      "Selamat Pagi\n",
      "Selamat Pagi\n",
      "Selamat Pagi\n",
      "Selamat Pagi\n",
      "Selamat Pagi\n",
      "Selamat Pagi\n",
      "Selamat Pagi\n",
      "Selamat Pagi\n",
      "Selamat Pagi\n",
      "Selamat Pagi\n",
      "Selamat Pagi\n",
      "Selamat Pagi\n",
      "Selamat Pagi\n",
      "Selamat Pagi\n",
      "Selamat Pagi\n",
      "Selamat Pagi\n",
      "Selamat Pagi\n",
      "Selamat Pagi\n",
      "Selamat Pagi\n",
      "Selamat Pagi\n",
      "Selamat Pagi\n",
      "Selamat Pagi\n"
     ]
    }
   ],
   "source": [
    "#sub program\n",
    "def pesan():\n",
    "    for x in range(10):\n",
    "        print(\"Selamat Pagi\")\n",
    "#program utama\n",
    "#.............\n",
    "#.............\n",
    "pesan()\n",
    "#.............\n",
    "#.............\n",
    "#.............\n",
    "pesan()\n",
    "#.............\n",
    "#.............\n",
    "#.............\n",
    "#.............\n",
    "pesan()\n",
    "#.............\n",
    "#.............\n",
    "#.............\n",
    "#.............\n",
    "pesan()"
   ]
  },
  {
   "cell_type": "code",
   "execution_count": 6,
   "metadata": {},
   "outputs": [
    {
     "name": "stdout",
     "output_type": "stream",
     "text": [
      "Halo, selamat pagi\n",
      "selamat belajar membuat fungsi\n",
      "semoga berhasil!\n",
      "Hai, Isabela. Nilai UTS kamu:85. sangat bagus\n",
      "Hai, yunus. Nilai UTS kamu:60. bagus\n"
     ]
    }
   ],
   "source": [
    "def pesanku(pesan):\n",
    "    print(pesan)\n",
    "pesanku('Halo, selamat pagi')\n",
    "pesanku('selamat belajar membuat fungsi')\n",
    "pesanku('semoga berhasil!')\n",
    "\n",
    "def info(nama, nilai, predikat):\n",
    "    print(\"Hai, \" + nama + \". Nilai UTS kamu:\" + str(nilai)+\". \"+ predikat)\n",
    "info('Isabela', 85, 'sangat bagus')\n",
    "info('yunus', 60, 'bagus')\n",
    "\n",
    "\n",
    "\n"
   ]
  }
 ],
 "metadata": {
  "kernelspec": {
   "display_name": "Python 3",
   "language": "python",
   "name": "python3"
  },
  "language_info": {
   "codemirror_mode": {
    "name": "ipython",
    "version": 3
   },
   "file_extension": ".py",
   "mimetype": "text/x-python",
   "name": "python",
   "nbconvert_exporter": "python",
   "pygments_lexer": "ipython3",
   "version": "3.11.2"
  },
  "orig_nbformat": 4
 },
 "nbformat": 4,
 "nbformat_minor": 2
}
